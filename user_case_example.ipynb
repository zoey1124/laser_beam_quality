{
 "cells": [
  {
   "cell_type": "code",
   "execution_count": 3,
   "id": "3c89988d",
   "metadata": {},
   "outputs": [],
   "source": [
    "from algo.model import *"
   ]
  },
  {
   "cell_type": "code",
   "execution_count": 4,
   "id": "383344cd",
   "metadata": {},
   "outputs": [],
   "source": [
    "# data transformation\n",
    "data_transforms = transforms.Compose([\n",
    "    transforms.ToPILImage(),\n",
    "    transforms.Resize(28),\n",
    "    transforms.ToTensor()\n",
    "])"
   ]
  },
  {
   "cell_type": "code",
   "execution_count": 5,
   "id": "7869acbf",
   "metadata": {},
   "outputs": [],
   "source": [
    "dset = CustomImageDataset('data/bad_image.h5', transform=data_transforms)"
   ]
  },
  {
   "cell_type": "code",
   "execution_count": 9,
   "id": "0586600d",
   "metadata": {},
   "outputs": [],
   "source": [
    "train_loader, valid_loader = get_dataloader(dset, 16, 0.8, 0)"
   ]
  },
  {
   "cell_type": "code",
   "execution_count": 10,
   "id": "1302c9d8",
   "metadata": {},
   "outputs": [
    {
     "data": {
      "text/plain": [
       "51"
      ]
     },
     "execution_count": 10,
     "metadata": {},
     "output_type": "execute_result"
    }
   ],
   "source": [
    "len(train_loader)"
   ]
  },
  {
   "cell_type": "code",
   "execution_count": null,
   "id": "f4f8daa1",
   "metadata": {},
   "outputs": [],
   "source": []
  }
 ],
 "metadata": {
  "kernelspec": {
   "display_name": "Python 3",
   "language": "python",
   "name": "python3"
  },
  "language_info": {
   "codemirror_mode": {
    "name": "ipython",
    "version": 3
   },
   "file_extension": ".py",
   "mimetype": "text/x-python",
   "name": "python",
   "nbconvert_exporter": "python",
   "pygments_lexer": "ipython3",
   "version": "3.7.10"
  }
 },
 "nbformat": 4,
 "nbformat_minor": 5
}
