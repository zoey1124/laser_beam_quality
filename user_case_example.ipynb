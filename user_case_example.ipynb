{
 "cells": [
  {
   "cell_type": "code",
   "execution_count": 2,
   "id": "3c89988d",
   "metadata": {},
   "outputs": [],
   "source": [
    "from algo.model import *"
   ]
  },
  {
   "cell_type": "markdown",
   "id": "5f9a9f04",
   "metadata": {},
   "source": [
    "# Example for training a model"
   ]
  },
  {
   "cell_type": "code",
   "execution_count": 3,
   "id": "383344cd",
   "metadata": {},
   "outputs": [],
   "source": [
    "# data transformation\n",
    "data_transforms = transforms.Compose([\n",
    "    transforms.ToPILImage(),\n",
    "    transforms.Resize(28),\n",
    "    transforms.ToTensor()\n",
    "])\n",
    "\n",
    "# generate a dataset\n",
    "dset = CustomImageDataset('data/bad_image.h5', transform=data_transforms)\n",
    "\n",
    "# get trainloader and validation loader\n",
    "train_loader, valid_loader = get_dataloader(dset)\n",
    "\n",
    "# train model\n",
    "model = train('CNN_28_1', train_loader, valid_loader)"
   ]
  },
  {
   "cell_type": "markdown",
   "id": "acb732c8",
   "metadata": {},
   "source": [
    "# Example for testing a new input image"
   ]
  },
  {
   "cell_type": "code",
   "execution_count": null,
   "id": "2e311f88",
   "metadata": {},
   "outputs": [],
   "source": []
  }
 ],
 "metadata": {
  "kernelspec": {
   "display_name": "Python 3",
   "language": "python",
   "name": "python3"
  },
  "language_info": {
   "codemirror_mode": {
    "name": "ipython",
    "version": 3
   },
   "file_extension": ".py",
   "mimetype": "text/x-python",
   "name": "python",
   "nbconvert_exporter": "python",
   "pygments_lexer": "ipython3",
   "version": "3.7.10"
  }
 },
 "nbformat": 4,
 "nbformat_minor": 5
}
